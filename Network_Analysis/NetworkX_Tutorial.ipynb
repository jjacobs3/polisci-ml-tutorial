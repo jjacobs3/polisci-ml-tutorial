{
 "cells": [
  {
   "cell_type": "markdown",
   "metadata": {},
   "source": [
    "# What is NetworkX?"
   ]
  },
  {
   "cell_type": "markdown",
   "metadata": {},
   "source": [
    "From https://networkx.github.io/: \"NetworkX is a Python language software package for the creation,\n",
    "manipulation, and study of the structure, dynamics, and functions of complex networks.\"\n",
    "\n",
    "Basically, the main features that I think make NetworkX stand out from other network analysis packages/programs are:\n",
    "\n",
    "1. **Simple integrated visualization**: when working with networks, especially in social science applications, you're going to want to easily produce cross-sectional and time-series visualizations. NetworkX has some super simple visualization functions (e.g., `draw()`) that let you quickly generate views of the networks you're working with.\n",
    "2. **Comically easy network statistics generation**: basically all of the statistics you're ever going to need to compute are immediately accessible through simple functions (`betweenness_centrality()`, `degree()`, `connected_components()`, etc.)\n",
    "3. **Straightforward processing of nodes/edges**: NetworkX provides two functions, `nodes_iter()` and `edges_iter()`, which give you objects specifically designed for efficient iteration over all nodes/edges in your network, for example via a for loop"
   ]
  },
  {
   "cell_type": "markdown",
   "metadata": {},
   "source": [
    "# Installing NetworkX"
   ]
  },
  {
   "cell_type": "markdown",
   "metadata": {},
   "source": [
    "**Recommended method**: install the Anaconda Python distribution, https://www.continuum.io/downloads (it's free, and has Windows, OS X, and Linux versions). This ensures that not only will NetworkX be available, but also many other useful data manipulation/visualization packages like pandas, numpy, and matplotlib. Otherwise, you can use standard Python's pip tool to install it by following the instructions on this page: https://networkx.github.io/documentation/latest/install.html. You'll also want to install matplotlib (http://matplotlib.org/users/installing.html) if you want to produce the network visualizations."
   ]
  },
  {
   "cell_type": "markdown",
   "metadata": {},
   "source": [
    "# NetworkX Basics"
   ]
  },
  {
   "cell_type": "markdown",
   "metadata": {},
   "source": [
    "## Building a Network"
   ]
  },
  {
   "cell_type": "markdown",
   "metadata": {},
   "source": [
    "To construct a network from scratch, we begin by creating our graph object via `nx.Graph()`. Then we can add nodes or edges to our network using the `add_node()` and `add_edge()` functions, respectively. So, to make a simple network with 3 nodes (labeled 1, 2, and 3) and 2 edges (between 1 and 2 and between 2 and 3) [see Figure 1], we execute the following code:"
   ]
  },
  {
   "cell_type": "code",
   "execution_count": 239,
   "metadata": {},
   "outputs": [
    {
     "name": "stdout",
     "output_type": "stream",
     "text": [
      "[1, 2, 3]\n",
      "[(1, 2), (2, 3)]\n"
     ]
    }
   ],
   "source": [
    "import networkx as nx\n",
    "\n",
    "cool_graph = nx.Graph()\n",
    "cool_graph.add_node(1)\n",
    "cool_graph.add_node(2)\n",
    "cool_graph.add_node(3)\n",
    "cool_graph.add_edge(1,2)\n",
    "cool_graph.add_edge(2,3)\n",
    "\n",
    "print(cool_graph.nodes())\n",
    "print(cool_graph.edges())"
   ]
  },
  {
   "cell_type": "markdown",
   "metadata": {},
   "source": [
    "This output reveals the basics of how NetworkX represents the constituent parts of the graph: nodes are stored as individual objects (in this case, integers), while edges are stored as tuples of nodes. A huge part of the flexibility of NetworkX comes from the fact that literally any object you can create in Python can be used as nodes. So if we want a network of names, we can simply use String objects as nodes (\"Vladimir\", \"Rosa\", etc.), or if we want a network of temporal entities we can use Date objects, and so on (even a network of networks, if you dare). In the next section, we'll keep this in mind when illustrating some additional NetworkX features."
   ]
  },
  {
   "cell_type": "code",
   "execution_count": 241,
   "metadata": {},
   "outputs": [
    {
     "data": {
      "image/png": "[encoded data removed]",
      "text/plain": [
       "<matplotlib.figure.Figure at 0x2b502eb7cf8>"
      ]
     },
     "metadata": {},
     "output_type": "display_data"
    }
   ],
   "source": [
    "# Visualizing the network\n",
    "import matplotlib.pyplot as plt\n",
    "nx.draw_networkx(cool_graph)\n",
    "plt.axis('off')\n",
    "plt.show()"
   ]
  },
  {
   "cell_type": "markdown",
   "metadata": {},
   "source": [
    "## Attributes"
   ]
  },
  {
   "cell_type": "markdown",
   "metadata": {},
   "source": [
    "Although the ability to use anything as a node is cool, the real workhorse of NetworkX graphs is the ability to add custom attributes to nodes or edges. Like columns in a dataset, attributes in a NetworkX network are where the full set of information about the entities we're interested in can be stored. Attributes can be set for nodes/edges when the nodes/edges are created, or added on afterwards. As an example, let's construct a network of countries (Figure 2) where the nodes are String objects representing the country names and there is an edge between country A and country B if country A and B have established diplomatic relations."
   ]
  },
  {
   "cell_type": "code",
   "execution_count": 242,
   "metadata": {},
   "outputs": [
    {
     "name": "stdout",
     "output_type": "stream",
     "text": [
      "[('US', {'oecd': True, 'gdp_per_capita': 54800}), ('Cuba', {'oecd': False, 'gdp_per_capita': 10200}), ('China', {'oecd': False, 'gdp_per_capita': 12900}), ('NorthKorea', {'oecd': False, 'gdp_per_capita': 1800}), ('SouthKorea', {'oecd': False, 'gdp_per_capita': 35400})]\n",
      "[('US', 'Cuba', {'since': 2015}), ('US', 'China', {'since': 1979}), ('US', 'SouthKorea', {'since': 1948}), ('Cuba', 'China', {'since': 1960}), ('Cuba', 'NorthKorea', {'since': 1960}), ('China', 'NorthKorea', {'since': 1949}), ('China', 'SouthKorea', {'since': 1992})]\n"
     ]
    }
   ],
   "source": [
    "country_graph = nx.Graph()\n",
    "\n",
    "# GDP per capita from CIA World Factbook\n",
    "country_graph.add_node(\"US\", oecd=True, gdp_per_capita=54800)\n",
    "country_graph.add_node(\"Cuba\", oecd=False, gdp_per_capita=10200)\n",
    "country_graph.add_node(\"China\", oecd=False, gdp_per_capita=12900)\n",
    "country_graph.add_node(\"NorthKorea\", oecd=False, gdp_per_capita=1800)\n",
    "country_graph.add_node(\"SouthKorea\", oecd=False, gdp_per_capita=35400)\n",
    "\n",
    "# Edge between A and B if A has diplomatic relations with B\n",
    "country_graph.add_edge(\"US\", \"Cuba\", since=2015)\n",
    "country_graph.add_edge(\"US\", \"China\", since=1979)\n",
    "country_graph.add_edge(\"US\", \"SouthKorea\", since=1948)\n",
    "country_graph.add_edge(\"Cuba\", \"China\", since=1960)\n",
    "country_graph.add_edge(\"Cuba\", \"NorthKorea\", since=1960)\n",
    "country_graph.add_edge(\"China\", \"NorthKorea\", since=1949)\n",
    "country_graph.add_edge(\"China\", \"SouthKorea\", since=1992)\n",
    "\n",
    "print(country_graph.nodes(data=True))\n",
    "print(country_graph.edges(data=True))"
   ]
  },
  {
   "cell_type": "code",
   "execution_count": 243,
   "metadata": {},
   "outputs": [
    {
     "data": {
      "image/png": "[encoded data removed]",
      "text/plain": [
       "<matplotlib.figure.Figure at 0x2b501d88ba8>"
      ]
     },
     "metadata": {},
     "output_type": "display_data"
    }
   ],
   "source": [
    "nx.draw_networkx(country_graph)\n",
    "plt.axis('off')\n",
    "plt.show()"
   ]
  },
  {
   "cell_type": "markdown",
   "metadata": {},
   "source": [
    "There are several things to take note of here. First, when we print the nodes and edges, we include a\n",
    "`data=True` argument in our calls to the `nodes()` and `edges()` functions. This tells NetworkX that we want the list of nodes/edges including the attributes, rather than just the nodes/edges on their own. As we see from the output, this changes the structure of the outputs from `nodes()` and `edges()`, where now each node is represented as a (node, attributes) tuple and each edge is represented as a (first node, second node, attributes) 3-tuple. The attributes data is in the form of a dictionary, which is just a mapping from keys to values. So for example in the node attributes 'gdp_per_capita' is a key, which is mapped to the particular integer value representing the per capita GDP for that node."
   ]
  },
  {
   "cell_type": "markdown",
   "metadata": {},
   "source": [
    "## An Aside: Dictionaries in Python\n",
    "As mentioned above, a dictionary data structure is a mapping from keys to values, where each\n",
    "key is associated with one and only one value. In practice, dictionaries are created/modified in Python as follows:"
   ]
  },
  {
   "cell_type": "code",
   "execution_count": 244,
   "metadata": {
    "collapsed": true
   },
   "outputs": [],
   "source": [
    "import datetime\n",
    "\n",
    "# Create a new (empty) dictionary\n",
    "car_dict = {}\n",
    "\n",
    "# Create a new dictionary with specified mappings\n",
    "name_dict = {'first_name': 'Jeff', 'last_name': 'Jacobs', 'birth_year': 1990}\n",
    "car_dict['make'] = 'Toyota'\n",
    "car_dict['model'] = 'Camry'\n",
    "\n",
    "# Map 'date_of_sale' to January 1st, 2008\n",
    "car_dict['date_of_sale'] = datetime.date(2008,1,1)"
   ]
  },
  {
   "cell_type": "markdown",
   "metadata": {},
   "source": [
    "And then used like:"
   ]
  },
  {
   "cell_type": "code",
   "execution_count": 245,
   "metadata": {},
   "outputs": [
    {
     "name": "stdout",
     "output_type": "stream",
     "text": [
      "Jeff\n",
      "2008\n",
      "1\n"
     ]
    }
   ],
   "source": [
    "print(name_dict['first_name'])\n",
    "print(car_dict['date_of_sale'].year)\n",
    "print(car_dict['date_of_sale'].month)"
   ]
  },
  {
   "cell_type": "markdown",
   "metadata": {},
   "source": [
    "## Extracting Subgraphs"
   ]
  },
  {
   "cell_type": "markdown",
   "metadata": {},
   "source": [
    "Now that we've learned how to associate attributes with nodes/edges, we can start to do some really\n",
    "cool stuff. For example, say we want to \"zoom in\" on the network and analyze just the relationships among the non-OECD nations with per capita GDP between \\$10,000 and \\$40,000 USD (pretend we have a way bigger network with all the countries, and this becomes a little more interesting). With a single line, using NetworkX's `subgraph()` function and Python list comprehensions, we can construct this subnetwork as follows:"
   ]
  },
  {
   "cell_type": "code",
   "execution_count": 246,
   "metadata": {
    "collapsed": true
   },
   "outputs": [],
   "source": [
    "sub_net = country_graph.subgraph([n for (n,d) in country_graph.nodes(data=True)\n",
    "  if not d['oecd'] and d['gdp_per_capita'] >= 10000 and d['gdp_per_capita'] <= 40000])"
   ]
  },
  {
   "cell_type": "markdown",
   "metadata": {},
   "source": [
    "which produces:"
   ]
  },
  {
   "cell_type": "code",
   "execution_count": 247,
   "metadata": {},
   "outputs": [
    {
     "name": "stdout",
     "output_type": "stream",
     "text": [
      "Nodes: [('Cuba', {'oecd': False, 'gdp_per_capita': 10200}), ('China', {'oecd': False, 'gdp_per_capita': 12900}), ('SouthKorea', {'oecd': False, 'gdp_per_capita': 35400})]\n",
      "Edges: [('Cuba', 'China', {'since': 1960}), ('China', 'SouthKorea', {'since': 1992})]\n"
     ]
    }
   ],
   "source": [
    "print(\"Nodes: \" + str(sub_net.nodes(data=True)))\n",
    "print(\"Edges: \" + str(sub_net.edges(data=True)))"
   ]
  },
  {
   "cell_type": "code",
   "execution_count": 254,
   "metadata": {},
   "outputs": [
    {
     "data": {
      "image/png": "[encoded data removed]",
      "text/plain": [
       "<matplotlib.figure.Figure at 0x2b502cf1198>"
      ]
     },
     "metadata": {},
     "output_type": "display_data"
    }
   ],
   "source": [
    "nx.draw_networkx(sub_net)\n",
    "plt.axis('off')\n",
    "plt.show()"
   ]
  },
  {
   "cell_type": "markdown",
   "metadata": {},
   "source": [
    "## Aside 2 (Electric Boogaloo): List Comprehensions"
   ]
  },
  {
   "cell_type": "markdown",
   "metadata": {},
   "source": [
    "As seen above, \"list comprehensions\" are Python statements of the form\n",
    "\n",
    "`[f(x) for x in y if g(x)]`\n",
    "\n",
    "Where `f(x)` is an arbitrary function, while `g(x)` is a function which evaluates to `True` or `False`. For\n",
    "example, if we had a list of numbers"
   ]
  },
  {
   "cell_type": "code",
   "execution_count": 255,
   "metadata": {
    "collapsed": true
   },
   "outputs": [],
   "source": [
    "y = [1,2,3,4,5,6,7,8,9]"
   ]
  },
  {
   "cell_type": "markdown",
   "metadata": {},
   "source": [
    "and we wanted to extract only the *even* numbers, we could use a list comprehension as follows:"
   ]
  },
  {
   "cell_type": "code",
   "execution_count": 169,
   "metadata": {},
   "outputs": [
    {
     "data": {
      "text/plain": [
       "[2, 4, 6, 8]"
      ]
     },
     "execution_count": 169,
     "metadata": {},
     "output_type": "execute_result"
    }
   ],
   "source": [
    "evens = [x for x in y if x % 2 == 0]\n",
    "evens"
   ]
  },
  {
   "cell_type": "markdown",
   "metadata": {},
   "source": [
    "Notice that in this case our `f(x)` function was just the identity function `f(x) = x`. If we wanted to get fancier, we could use `f(x) = x`$^2$:"
   ]
  },
  {
   "cell_type": "code",
   "execution_count": 170,
   "metadata": {},
   "outputs": [
    {
     "data": {
      "text/plain": [
       "[4, 16, 36, 64]"
      ]
     },
     "execution_count": 170,
     "metadata": {},
     "output_type": "execute_result"
    }
   ],
   "source": [
    "squared_evens = [x**2 for x in y if x % 2 == 0]\n",
    "squared_evens"
   ]
  },
  {
   "cell_type": "markdown",
   "metadata": {},
   "source": [
    "Or we could use a function which *doesn't* evaluate to a number:"
   ]
  },
  {
   "cell_type": "code",
   "execution_count": 171,
   "metadata": {},
   "outputs": [
    {
     "data": {
      "text/plain": [
       "['2', '4', '6', '8']"
      ]
     },
     "execution_count": 171,
     "metadata": {},
     "output_type": "execute_result"
    }
   ],
   "source": [
    "string_evens = [str(x) for x in y if x % 2 == 0]\n",
    "string_evens"
   ]
  },
  {
   "cell_type": "markdown",
   "metadata": {},
   "source": [
    "## Subnetworks from Edges"
   ]
  },
  {
   "cell_type": "markdown",
   "metadata": {},
   "source": [
    "Similarly, utilizing the edge attributes (and the `add_nodes_from()` and `add_edges_from()` functions) we can create a subnetwork representing the relationships among these countries in 1975:"
   ]
  },
  {
   "cell_type": "code",
   "execution_count": 172,
   "metadata": {
    "collapsed": true
   },
   "outputs": [],
   "source": [
    "edges_1975 = [(n1,n2,d) for (n1,n2,d) in country_graph.edges(data=True) if d['since'] <= 1975]\n",
    "net_1975 = nx.Graph()\n",
    "net_1975.add_nodes_from(country_graph.nodes(data=True))\n",
    "net_1975.add_edges_from(edges_1975)"
   ]
  },
  {
   "cell_type": "code",
   "execution_count": 256,
   "metadata": {},
   "outputs": [
    {
     "name": "stdout",
     "output_type": "stream",
     "text": [
      "Nodes: [('US', {'oecd': True, 'gdp_per_capita': 54800}), ('Cuba', {'oecd': False, 'gdp_per_capita': 10200}), ('China', {'oecd': False, 'gdp_per_capita': 12900}), ('NorthKorea', {'oecd': False, 'gdp_per_capita': 1800}), ('SouthKorea', {'oecd': False, 'gdp_per_capita': 35400})]\n",
      "Edges: [('US', 'SouthKorea', {'since': 1948}), ('Cuba', 'China', {'since': 1960}), ('Cuba', 'NorthKorea', {'since': 1960}), ('China', 'NorthKorea', {'since': 1949})]\n"
     ]
    }
   ],
   "source": [
    "print(\"Nodes: \" + str(net_1975.nodes(data=True)))\n",
    "print(\"Edges: \" + str(net_1975.edges(data=True)))"
   ]
  },
  {
   "cell_type": "code",
   "execution_count": 258,
   "metadata": {},
   "outputs": [
    {
     "data": {
      "image/png": "[encoded data removed]",
      "text/plain": [
       "<matplotlib.figure.Figure at 0x2b502e12b38>"
      ]
     },
     "metadata": {},
     "output_type": "display_data"
    }
   ],
   "source": [
    "nx.draw_networkx(net_1975)\n",
    "plt.axis('off')\n",
    "plt.show()"
   ]
  },
  {
   "cell_type": "markdown",
   "metadata": {},
   "source": [
    "# Computing Network Statistics"
   ]
  },
  {
   "cell_type": "code",
   "execution_count": 179,
   "metadata": {},
   "outputs": [
    {
     "name": "stdout",
     "output_type": "stream",
     "text": [
      "Degree Centralities:\n",
      "{'US': 0.75, 'Cuba': 0.75, 'China': 1.0, 'NorthKorea': 0.5, 'SouthKorea': 0.5}\n",
      "\n",
      "Diameter: 2\n",
      "\n",
      "Node 0 = US\n",
      "Degree(US) = 3\n",
      "Node 1 = Cuba\n",
      "Degree(Cuba) = 3\n",
      "Node 2 = China\n",
      "Degree(China) = 4\n",
      "Node 3 = NorthKorea\n",
      "Degree(NorthKorea) = 2\n",
      "Node 4 = SouthKorea\n",
      "Degree(SouthKorea) = 2\n",
      "\n",
      "All Degrees: {'US': 3, 'Cuba': 3, 'China': 4, 'NorthKorea': 2, 'SouthKorea': 2}\n"
     ]
    }
   ],
   "source": [
    "deg_cent = nx.degree_centrality(country_graph)\n",
    "print(\"Degree Centralities:\\n\" + str(deg_cent))\n",
    "print()\n",
    "print(\"Diameter: \" + str(nx.diameter(country_graph)))\n",
    "print()\n",
    "#print(\"Diameter of 1975 network: \" + str(nx.diameter(net_1975)))\n",
    "degrees = {}\n",
    "for node_num, node in enumerate(country_graph.nodes()):\n",
    "    print(\"Node \" + str(node_num) + \" = \" + node)\n",
    "    print(\"Degree(\" + node + \") = \" + str(country_graph.degree(node)))\n",
    "    degrees[node] = country_graph.degree(node)\n",
    "    \n",
    "print()\n",
    "print(\"All Degrees: \" + str(degrees))"
   ]
  },
  {
   "cell_type": "markdown",
   "metadata": {},
   "source": [
    "# Visualizing Networks"
   ]
  },
  {
   "cell_type": "markdown",
   "metadata": {},
   "source": [
    "From the above code, you'll see that one simple function, `draw_networkx()`, is really doing all the work here. The three steps to producing any network visualization are as follows:\n",
    "1. Import the matplotlib library via `import matplotlib.pyplot as plt` (this only needs to be done once, at the beginning of the file/notebook).\n",
    "2. Call the `draw_networkx()` function, specifying the graph style via the arguments to this function (see below).\n",
    "3. Call `plt.axis('off')` to remove the x and y axis labels (which we'd want for things like scatterplots but not for graph visualizations). \n",
    "4. Call `plt.show()` to create a popup window (or, in a Jupyter notebook, an image) displaying the visualization. Alternatively, to save the visualization to an image file rather than popping it up in a window, call `plt.savefig(filename)`.\n",
    "\n",
    "The most important arguments to the `draw()` function are:\n",
    "* `with_labels`: if `True`, will label each node with a String representation of the node\n",
    "* `arrows`: if `True`, will put an (ugly) \"arrowhead\" on directed edges, showing their directionality"
   ]
  },
  {
   "cell_type": "code",
   "execution_count": 64,
   "metadata": {},
   "outputs": [
    {
     "data": {
      "image/png": "[encoded data removed]",
      "text/plain": [
       "<matplotlib.figure.Figure at 0x2b501cffeb8>"
      ]
     },
     "metadata": {},
     "output_type": "display_data"
    }
   ],
   "source": [
    "nx.draw_networkx(net_1975, with_labels=False)\n",
    "plt.axis('off')\n",
    "plt.show()"
   ]
  },
  {
   "cell_type": "markdown",
   "metadata": {},
   "source": [
    "# Exporting Data"
   ]
  },
  {
   "cell_type": "markdown",
   "metadata": {},
   "source": [
    "## Network Statistics Dataset"
   ]
  },
  {
   "cell_type": "markdown",
   "metadata": {},
   "source": [
    "First, let's take the network statistics we computed above and export them to a country-level dataset in .csv format"
   ]
  },
  {
   "cell_type": "code",
   "execution_count": null,
   "metadata": {
    "collapsed": true
   },
   "outputs": [],
   "source": [
    "import pandas as pd\n",
    "network_df = pd.DataFrame()\n"
   ]
  },
  {
   "cell_type": "markdown",
   "metadata": {},
   "source": [
    "## Adjacency List Format"
   ]
  },
  {
   "cell_type": "markdown",
   "metadata": {},
   "source": [
    "The simplest way to represent a network is as an \"adjacency list\", where in each row the first element represents a node, and every subsequent element in the row is a node connected to the first node. Sadly, this format is too simple to allow representation of node attributes :("
   ]
  },
  {
   "cell_type": "code",
   "execution_count": 185,
   "metadata": {},
   "outputs": [
    {
     "data": {
      "text/plain": [
       "['US Cuba China SouthKorea',\n",
       " 'Cuba China NorthKorea',\n",
       " 'China NorthKorea SouthKorea',\n",
       " 'NorthKorea',\n",
       " 'SouthKorea']"
      ]
     },
     "execution_count": 185,
     "metadata": {},
     "output_type": "execute_result"
    }
   ],
   "source": [
    "nx.write_adjlist(country_graph,\"adj.txt\")\n",
    "list(nx.generate_adjlist(country_graph))"
   ]
  },
  {
   "cell_type": "markdown",
   "metadata": {},
   "source": [
    "## Edge List Format"
   ]
  },
  {
   "cell_type": "markdown",
   "metadata": {},
   "source": [
    "In this format, every line represents an edge, and the first two elements on each line are the names of two nodes connected by an edge. This format *does* allow us to represent edge attributes."
   ]
  },
  {
   "cell_type": "code",
   "execution_count": 259,
   "metadata": {},
   "outputs": [
    {
     "name": "stdout",
     "output_type": "stream",
     "text": [
      "['US Cuba', 'US China', 'US SouthKorea', 'Cuba China', 'Cuba NorthKorea', 'China NorthKorea', 'China SouthKorea']\n"
     ]
    }
   ],
   "source": [
    "# Without edge attributes\n",
    "nx.write_edgelist(country_graph,\"edges.txt\", data=False)\n",
    "print(list(nx.generate_edgelist(country_graph, data=False)))\n",
    "# With edge attributes\n",
    "nx.write_edgelist(country_graph,\"edges_data.txt\", data=True)"
   ]
  },
  {
   "cell_type": "markdown",
   "metadata": {},
   "source": [
    "## Exporting to Gephi"
   ]
  },
  {
   "cell_type": "markdown",
   "metadata": {},
   "source": [
    "Though `draw_networkx()` is nice for quick visualizations of \"what's going on\" in your networks, for advanced visualization I recommend using Gephi (https://gephi.org/), a free and open-source network visualization tool. Gephi uses .gexf files as its input format, so here we'll export our graph to this format using NetworkX's `write_gexf()` function:"
   ]
  },
  {
   "cell_type": "code",
   "execution_count": 260,
   "metadata": {
    "collapsed": true
   },
   "outputs": [],
   "source": [
    "nx.write_gexf(country_graph, 'country_graph.gexf')"
   ]
  },
  {
   "cell_type": "markdown",
   "metadata": {},
   "source": [
    "# Working With (Real) Data"
   ]
  },
  {
   "cell_type": "markdown",
   "metadata": {},
   "source": [
    "Now that we've learned how to construct networks from scratch, let's move to a more realistic situation, where you'd like to load data from a file and create a network to represent some features of the data you're hoping to analyze. For this part, I'll download some raw data from https://voteview.com/data and turn it into a network using NetworkX"
   ]
  },
  {
   "cell_type": "code",
   "execution_count": 266,
   "metadata": {},
   "outputs": [
    {
     "name": "stdout",
     "output_type": "stream",
     "text": [
      "[(41704, {'party': 'R', 'name': 'STRANGE, Luther  Johnson, III', 'state': 'AL'}), (49700, {'party': 'R', 'name': 'SESSIONS, Jefferson Beauregard III (Jeff)', 'state': 'AL'}), (94659, {'party': 'R', 'name': 'SHELBY, Richard C.', 'state': 'AL'}), (40300, {'party': 'R', 'name': 'MURKOWSKI, Lisa', 'state': 'AK'}), (41500, {'party': 'R', 'name': 'SULLIVAN, Daniel Scott', 'state': 'AK'}), (15039, {'party': 'R', 'name': 'McCAIN, John Sidney, III', 'state': 'AZ'}), (20100, {'party': 'R', 'name': 'FLAKE, Jeff', 'state': 'AZ'}), (20101, {'party': 'R', 'name': 'BOOZMAN, John', 'state': 'AR'}), (21301, {'party': 'R', 'name': 'COTTON, Tom', 'state': 'AR'}), (41701, {'party': 'D', 'name': 'HARRIS, Kamala Devi', 'state': 'CA'})]\n"
     ]
    }
   ],
   "source": [
    "senate = nx.Graph()\n",
    "\n",
    "# 100 = Dem, 200 = Repub, 328 = Indep\n",
    "# (we could have merged this info in programmatically too)\n",
    "party_code_map = {100:'D',200:'R',328:'I'}\n",
    "\n",
    "# import pandas as pd\n",
    "# Make a node for each Senator\n",
    "votes_df = pd.read_csv(\"S115_members.csv\")\n",
    "for row_num, senator_info in votes_df.iterrows():\n",
    "    # Party code\n",
    "    cur_pcode = senator_info[\"party_code\"]\n",
    "    #print(pcode)\n",
    "    cur_party = party_code_map[cur_pcode]\n",
    "    \n",
    "    # Name\n",
    "    cur_name = senator_info[\"bioname\"]\n",
    "    #print(name)\n",
    "    \n",
    "    # ICPSR code\n",
    "    cur_icpsr = senator_info[\"icpsr\"]\n",
    "    #print(senator_info[\"icpsr\"])\n",
    "    \n",
    "    # State\n",
    "    cur_state = senator_info[\"state_abbrev\"]\n",
    "    #print(senator_info[\"state_abbrev\"])\n",
    "    \n",
    "    # Construct the node\n",
    "    senate.add_node(cur_icpsr, party=cur_party, name=cur_name, state=cur_state)\n",
    "    \n",
    "print(senate.nodes(data=True)[0:10])"
   ]
  },
  {
   "cell_type": "code",
   "execution_count": 267,
   "metadata": {},
   "outputs": [
    {
     "data": {
      "text/html": [
       "<div>\n",
       "<style>\n",
       "    .dataframe thead tr:only-child th {\n",
       "        text-align: right;\n",
       "    }\n",
       "\n",
       "    .dataframe thead th {\n",
       "        text-align: left;\n",
       "    }\n",
       "\n",
       "    .dataframe tbody tr th {\n",
       "        vertical-align: top;\n",
       "    }\n",
       "</style>\n",
       "<table border=\"1\" class=\"dataframe\">\n",
       "  <thead>\n",
       "    <tr style=\"text-align: right;\">\n",
       "      <th></th>\n",
       "      <th>congress</th>\n",
       "      <th>chamber</th>\n",
       "      <th>icpsr</th>\n",
       "      <th>state_icpsr</th>\n",
       "      <th>district_code</th>\n",
       "      <th>state_abbrev</th>\n",
       "      <th>party_code</th>\n",
       "      <th>occupancy</th>\n",
       "      <th>last_means</th>\n",
       "      <th>bioname</th>\n",
       "      <th>bioguide_id</th>\n",
       "      <th>born</th>\n",
       "      <th>died</th>\n",
       "      <th>dim1</th>\n",
       "      <th>dim2</th>\n",
       "      <th>log_likelihood</th>\n",
       "      <th>geo_mean_probability</th>\n",
       "      <th>number_of_votes</th>\n",
       "      <th>number_of_errors</th>\n",
       "      <th>conditional</th>\n",
       "    </tr>\n",
       "  </thead>\n",
       "  <tbody>\n",
       "    <tr>\n",
       "      <th>0</th>\n",
       "      <td>115</td>\n",
       "      <td>Senate</td>\n",
       "      <td>41704</td>\n",
       "      <td>41</td>\n",
       "      <td>0</td>\n",
       "      <td>AL</td>\n",
       "      <td>200</td>\n",
       "      <td>NaN</td>\n",
       "      <td>NaN</td>\n",
       "      <td>STRANGE, Luther  Johnson, III</td>\n",
       "      <td>S001202</td>\n",
       "      <td>1953</td>\n",
       "      <td>NaN</td>\n",
       "      <td>0.648</td>\n",
       "      <td>0.178</td>\n",
       "      <td>-3.18248</td>\n",
       "      <td>0.97446</td>\n",
       "      <td>123</td>\n",
       "      <td>0</td>\n",
       "      <td>1</td>\n",
       "    </tr>\n",
       "    <tr>\n",
       "      <th>1</th>\n",
       "      <td>115</td>\n",
       "      <td>Senate</td>\n",
       "      <td>49700</td>\n",
       "      <td>41</td>\n",
       "      <td>0</td>\n",
       "      <td>AL</td>\n",
       "      <td>200</td>\n",
       "      <td>NaN</td>\n",
       "      <td>NaN</td>\n",
       "      <td>SESSIONS, Jefferson Beauregard III (Jeff)</td>\n",
       "      <td>S001141</td>\n",
       "      <td>1946</td>\n",
       "      <td>NaN</td>\n",
       "      <td>0.549</td>\n",
       "      <td>0.130</td>\n",
       "      <td>-0.56654</td>\n",
       "      <td>0.97062</td>\n",
       "      <td>19</td>\n",
       "      <td>0</td>\n",
       "      <td>1</td>\n",
       "    </tr>\n",
       "    <tr>\n",
       "      <th>2</th>\n",
       "      <td>115</td>\n",
       "      <td>Senate</td>\n",
       "      <td>94659</td>\n",
       "      <td>41</td>\n",
       "      <td>0</td>\n",
       "      <td>AL</td>\n",
       "      <td>200</td>\n",
       "      <td>NaN</td>\n",
       "      <td>NaN</td>\n",
       "      <td>SHELBY, Richard C.</td>\n",
       "      <td>S000320</td>\n",
       "      <td>1934</td>\n",
       "      <td>NaN</td>\n",
       "      <td>0.433</td>\n",
       "      <td>0.543</td>\n",
       "      <td>-2.28802</td>\n",
       "      <td>0.98784</td>\n",
       "      <td>187</td>\n",
       "      <td>0</td>\n",
       "      <td>1</td>\n",
       "    </tr>\n",
       "    <tr>\n",
       "      <th>3</th>\n",
       "      <td>115</td>\n",
       "      <td>Senate</td>\n",
       "      <td>40300</td>\n",
       "      <td>81</td>\n",
       "      <td>0</td>\n",
       "      <td>AK</td>\n",
       "      <td>200</td>\n",
       "      <td>NaN</td>\n",
       "      <td>NaN</td>\n",
       "      <td>MURKOWSKI, Lisa</td>\n",
       "      <td>M001153</td>\n",
       "      <td>1957</td>\n",
       "      <td>NaN</td>\n",
       "      <td>0.207</td>\n",
       "      <td>-0.290</td>\n",
       "      <td>-22.09292</td>\n",
       "      <td>0.88569</td>\n",
       "      <td>182</td>\n",
       "      <td>5</td>\n",
       "      <td>1</td>\n",
       "    </tr>\n",
       "    <tr>\n",
       "      <th>4</th>\n",
       "      <td>115</td>\n",
       "      <td>Senate</td>\n",
       "      <td>41500</td>\n",
       "      <td>81</td>\n",
       "      <td>0</td>\n",
       "      <td>AK</td>\n",
       "      <td>200</td>\n",
       "      <td>NaN</td>\n",
       "      <td>NaN</td>\n",
       "      <td>SULLIVAN, Daniel Scott</td>\n",
       "      <td>S001198</td>\n",
       "      <td>1964</td>\n",
       "      <td>NaN</td>\n",
       "      <td>0.463</td>\n",
       "      <td>0.139</td>\n",
       "      <td>-5.55684</td>\n",
       "      <td>0.96960</td>\n",
       "      <td>180</td>\n",
       "      <td>2</td>\n",
       "      <td>1</td>\n",
       "    </tr>\n",
       "  </tbody>\n",
       "</table>\n",
       "</div>"
      ],
      "text/plain": [
       "   congress chamber  icpsr  state_icpsr  district_code state_abbrev  \\\n",
       "0       115  Senate  41704           41              0           AL   \n",
       "1       115  Senate  49700           41              0           AL   \n",
       "2       115  Senate  94659           41              0           AL   \n",
       "3       115  Senate  40300           81              0           AK   \n",
       "4       115  Senate  41500           81              0           AK   \n",
       "\n",
       "   party_code  occupancy  last_means  \\\n",
       "0         200        NaN         NaN   \n",
       "1         200        NaN         NaN   \n",
       "2         200        NaN         NaN   \n",
       "3         200        NaN         NaN   \n",
       "4         200        NaN         NaN   \n",
       "\n",
       "                                     bioname bioguide_id  born  died   dim1  \\\n",
       "0              STRANGE, Luther  Johnson, III     S001202  1953   NaN  0.648   \n",
       "1  SESSIONS, Jefferson Beauregard III (Jeff)     S001141  1946   NaN  0.549   \n",
       "2                         SHELBY, Richard C.     S000320  1934   NaN  0.433   \n",
       "3                            MURKOWSKI, Lisa     M001153  1957   NaN  0.207   \n",
       "4                     SULLIVAN, Daniel Scott     S001198  1964   NaN  0.463   \n",
       "\n",
       "    dim2  log_likelihood  geo_mean_probability  number_of_votes  \\\n",
       "0  0.178        -3.18248               0.97446              123   \n",
       "1  0.130        -0.56654               0.97062               19   \n",
       "2  0.543        -2.28802               0.98784              187   \n",
       "3 -0.290       -22.09292               0.88569              182   \n",
       "4  0.139        -5.55684               0.96960              180   \n",
       "\n",
       "   number_of_errors  conditional  \n",
       "0                 0            1  \n",
       "1                 0            1  \n",
       "2                 0            1  \n",
       "3                 5            1  \n",
       "4                 2            1  "
      ]
     },
     "execution_count": 267,
     "metadata": {},
     "output_type": "execute_result"
    }
   ],
   "source": [
    "votes_df.head()"
   ]
  },
  {
   "cell_type": "code",
   "execution_count": 268,
   "metadata": {},
   "outputs": [
    {
     "data": {
      "text/html": [
       "<div>\n",
       "<style>\n",
       "    .dataframe thead tr:only-child th {\n",
       "        text-align: right;\n",
       "    }\n",
       "\n",
       "    .dataframe thead th {\n",
       "        text-align: left;\n",
       "    }\n",
       "\n",
       "    .dataframe tbody tr th {\n",
       "        vertical-align: top;\n",
       "    }\n",
       "</style>\n",
       "<table border=\"1\" class=\"dataframe\">\n",
       "  <thead>\n",
       "    <tr style=\"text-align: right;\">\n",
       "      <th></th>\n",
       "      <th>congress</th>\n",
       "      <th>chamber</th>\n",
       "      <th>rollnumber</th>\n",
       "      <th>icpsr</th>\n",
       "      <th>cast_code</th>\n",
       "      <th>vote</th>\n",
       "    </tr>\n",
       "  </thead>\n",
       "  <tbody>\n",
       "    <tr>\n",
       "      <th>0</th>\n",
       "      <td>115</td>\n",
       "      <td>Senate</td>\n",
       "      <td>1</td>\n",
       "      <td>14009</td>\n",
       "      <td>1</td>\n",
       "      <td>Yea</td>\n",
       "    </tr>\n",
       "    <tr>\n",
       "      <th>1</th>\n",
       "      <td>115</td>\n",
       "      <td>Senate</td>\n",
       "      <td>1</td>\n",
       "      <td>14226</td>\n",
       "      <td>1</td>\n",
       "      <td>Yea</td>\n",
       "    </tr>\n",
       "    <tr>\n",
       "      <th>2</th>\n",
       "      <td>115</td>\n",
       "      <td>Senate</td>\n",
       "      <td>1</td>\n",
       "      <td>14307</td>\n",
       "      <td>6</td>\n",
       "      <td>Nay</td>\n",
       "    </tr>\n",
       "    <tr>\n",
       "      <th>3</th>\n",
       "      <td>115</td>\n",
       "      <td>Senate</td>\n",
       "      <td>1</td>\n",
       "      <td>14435</td>\n",
       "      <td>6</td>\n",
       "      <td>Nay</td>\n",
       "    </tr>\n",
       "    <tr>\n",
       "      <th>4</th>\n",
       "      <td>115</td>\n",
       "      <td>Senate</td>\n",
       "      <td>1</td>\n",
       "      <td>14503</td>\n",
       "      <td>1</td>\n",
       "      <td>Yea</td>\n",
       "    </tr>\n",
       "  </tbody>\n",
       "</table>\n",
       "</div>"
      ],
      "text/plain": [
       "   congress chamber  rollnumber  icpsr  cast_code vote\n",
       "0       115  Senate           1  14009          1  Yea\n",
       "1       115  Senate           1  14226          1  Yea\n",
       "2       115  Senate           1  14307          6  Nay\n",
       "3       115  Senate           1  14435          6  Nay\n",
       "4       115  Senate           1  14503          1  Yea"
      ]
     },
     "execution_count": 268,
     "metadata": {},
     "output_type": "execute_result"
    }
   ],
   "source": [
    "# 1 = Yea, 6 = Nay, 9 = Abstain\n",
    "# even though this isn't reported anywhere on the site -__-\n",
    "vote_code_map = {1:'Yea', 6:'Nay', 9:'Abstain'}\n",
    "\n",
    "# Now edges between all Senators with weight = number of times they voted the same\n",
    "votes_df = pd.read_csv(\"S115_votes.csv\")\n",
    "# Replace cast_code with vote\n",
    "votes_df[\"vote\"] = votes_df[\"cast_code\"].apply(lambda x: vote_code_map[x] if x in vote_code_map else 'NA')\n",
    "rolls_df = votes_df.groupby('rollnumber')\n",
    "total_votes = len(rolls_df)\n",
    "votes_df.head()"
   ]
  },
  {
   "cell_type": "code",
   "execution_count": 269,
   "metadata": {
    "collapsed": true
   },
   "outputs": [],
   "source": [
    "# Now the actual computation\n",
    "import itertools\n",
    "\n",
    "def updateWeights(same_vote_codes):\n",
    "    vote_pairs = itertools.combinations(same_vote_codes, 2)\n",
    "    for voter1, voter2 in vote_pairs:\n",
    "        if not senate.has_edge(voter1, voter2):\n",
    "            senate.add_edge(voter1, voter2, weight=1)\n",
    "        else:\n",
    "            senate[voter1][voter2]['weight'] += 1\n",
    "\n",
    "for roll_num, roll_info in rolls_df:\n",
    "    # Update yea voter links\n",
    "    yea_voters = roll_info[roll_info[\"vote\"] == \"Yea\"]\n",
    "    #print(yea_voters)\n",
    "    yea_codes = yea_voters[\"icpsr\"].tolist()\n",
    "    updateWeights(yea_codes)\n",
    "    \n",
    "    # Update nay voter links\n",
    "    nay_voters = roll_info[roll_info[\"vote\"] == \"Nay\"]\n",
    "    #print(nay_voters)\n",
    "    nay_codes = nay_voters[\"icpsr\"].tolist()\n",
    "    updateWeights(nay_codes)"
   ]
  },
  {
   "cell_type": "code",
   "execution_count": 270,
   "metadata": {
    "collapsed": true
   },
   "outputs": [],
   "source": [
    "#senate.edges(data=True)[:10]\n",
    "#print(senate[49700][49703]) # Voted the same 16 times, weight = 16\n",
    "#print(senate[49700][49308]) # Voted the same 4 times"
   ]
  },
  {
   "cell_type": "markdown",
   "metadata": {},
   "source": [
    "Now let's look at which pairs of Senators are most and least agreeable"
   ]
  },
  {
   "cell_type": "code",
   "execution_count": 271,
   "metadata": {},
   "outputs": [
    {
     "name": "stdout",
     "output_type": "stream",
     "text": [
      "Top 10 pairs by agreement:\n",
      "ROBERTS, Charles Patrick (Pat), CORNYN, John: 208\n",
      "ROBERTS, Charles Patrick (Pat), ROUNDS, Marion Michael (Mike): 208\n",
      "ROUNDS, Marion Michael (Mike), CORNYN, John: 208\n",
      "SHELBY, Richard C., ROBERTS, Charles Patrick (Pat): 207\n",
      "SHELBY, Richard C., CORNYN, John: 207\n",
      "SHELBY, Richard C., ROUNDS, Marion Michael (Mike): 207\n",
      "BOOZMAN, John, ROBERTS, Charles Patrick (Pat): 207\n",
      "BOOZMAN, John, THUNE, John: 207\n",
      "BOOZMAN, John, CORNYN, John: 207\n",
      "BOOZMAN, John, ROUNDS, Marion Michael (Mike): 207\n",
      "\n",
      "Bottom 10 pairs by agreement:\n",
      "SESSIONS, Jefferson Beauregard III (Jeff), TESTER, Jon: 4\n",
      "SESSIONS, Jefferson Beauregard III (Jeff), COONS, Christopher A.: 4\n",
      "SESSIONS, Jefferson Beauregard III (Jeff), BLUMENTHAL, Richard: 4\n",
      "SESSIONS, Jefferson Beauregard III (Jeff), MURRAY, Patty: 4\n",
      "SESSIONS, Jefferson Beauregard III (Jeff), GILLIBRAND, Kirsten: 3\n",
      "SESSIONS, Jefferson Beauregard III (Jeff), MERKLEY, Jeff: 3\n",
      "SESSIONS, Jefferson Beauregard III (Jeff), WARREN, Elizabeth: 3\n",
      "SESSIONS, Jefferson Beauregard III (Jeff), BOOKER, Cory Anthony: 3\n",
      "SESSIONS, Jefferson Beauregard III (Jeff), SANDERS, Bernard: 2\n",
      "SESSIONS, Jefferson Beauregard III (Jeff), UDALL, Thomas (Tom): 2\n"
     ]
    }
   ],
   "source": [
    "def nicePrintPairs(pairs_raw):\n",
    "    name_strs = [name_map[pair[0]] + \", \" + name_map[pair[1]] + \": \" + str(pair[2]['weight']) for pair in pairs_raw]\n",
    "    print('\\n'.join(name_strs))\n",
    "\n",
    "name_map = nx.get_node_attributes(senate, 'name')\n",
    "\n",
    "highest_agreement = sorted(senate.edges(data=True), key=(lambda edge: edge[2][\"weight\"]), reverse=True)\n",
    "\n",
    "print(\"Top 10 pairs by agreement:\")\n",
    "top10 = highest_agreement[:10]\n",
    "nicePrintPairs(top10)\n",
    "print()\n",
    "print(\"Bottom 10 pairs by agreement:\")\n",
    "bottom10 = highest_agreement[-10:]\n",
    "nicePrintPairs(bottom10)"
   ]
  },
  {
   "cell_type": "markdown",
   "metadata": {},
   "source": [
    "Next we could construct a subgraph where Senators are only connected if they voted the same greater than (say) 50% of the time. Then we could export this subgraph to Gephi, and look for the clusters - do they correlate with subcommittee? Geographic region? etc."
   ]
  },
  {
   "cell_type": "code",
   "execution_count": 272,
   "metadata": {},
   "outputs": [
    {
     "name": "stdout",
     "output_type": "stream",
     "text": [
      "101\n",
      "5049\n"
     ]
    }
   ],
   "source": [
    "print(senate.number_of_nodes())\n",
    "print(senate.number_of_edges())\n",
    "nx.write_gexf(senate, 'senate.gexf')"
   ]
  },
  {
   "cell_type": "markdown",
   "metadata": {},
   "source": [
    "# Further Reading"
   ]
  },
  {
   "cell_type": "markdown",
   "metadata": {},
   "source": [
    "[1] Bearman, Peter S., James Moody, and Katherine Stovel. 2004. \"Chains of Affection: The Structure of\n",
    "Adolescent Romantic and Sexual Networks\". *American Journal of Sociology*, 110(1):44–91.\n",
    "\n",
    "[2] Diani, Mario and Doug McAdam. 2003. *Social Movements and Networks: Relational Approaches to\n",
    "Collective Action*. New York, NY: Oxford University Press.\n",
    "\n",
    "[3] Easley, David and Jon Kleinberg. 2010. *Networks, Crowds, and Markets: Reasoning About a Highly\n",
    "Connected World*. New York, NY: Cambridge University Press. Free online at http://www.cs.cornell.edu/home/kleinber/networks-book/networks-book.pdf\n",
    "\n",
    "[4] Granovetter, Mark S. 1973. \"The Strength of Weak Ties\". *American Journal of Sociology*, 78(6):1360–1380.\n",
    "\n",
    "[5] Hadden, Jennifer. 2015. *Networks in Contention: The Divisive Politics of Climate Change*. New York, NY: Cambridge University Press.\n",
    "\n",
    "[6] Jackson, Matthew O. 2010. *Social and Economic Networks*. Princeton, NJ: Princeton University Press. First chapter online at http://web.stanford.edu/~jacksonm/netbook.pdf. [PDF\n",
    "available upon request]\n",
    "\n",
    "[7] Jackson, Mathhew O. and Stephen Nei. 2015. \"Networks of Military Alliances, Wars, and International Trade\". *Proceedings of the National Academy of Sciences*, 112(50):15277–15284.\n",
    "\n",
    "[8] Padgett, John and Christopher Ansell. 1993. \"Robust Action and the Rise of the Medici, 1400–1434\".\n",
    "*American Journal of Sociology*, 98(6):1259–1319."
   ]
  },
  {
   "cell_type": "code",
   "execution_count": null,
   "metadata": {
    "collapsed": true
   },
   "outputs": [],
   "source": []
  }
 ],
 "metadata": {
  "kernelspec": {
   "display_name": "Python 3",
   "language": "python",
   "name": "python3"
  },
  "language_info": {
   "codemirror_mode": {
    "name": "ipython",
    "version": 3
   },
   "file_extension": ".py",
   "mimetype": "text/x-python",
   "name": "python",
   "nbconvert_exporter": "python",
   "pygments_lexer": "ipython3",
   "version": "3.6.1"
  }
 },
 "nbformat": 4,
 "nbformat_minor": 2
}
